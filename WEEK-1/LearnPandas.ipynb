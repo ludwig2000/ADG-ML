{
 "cells": [
  {
   "cell_type": "code",
   "execution_count": 1,
   "metadata": {},
   "outputs": [
    {
     "name": "stdout",
     "output_type": "stream",
     "text": [
      "1.1.1\n"
     ]
    }
   ],
   "source": [
    "import pandas as pd\n",
    "print(pd.__version__)"
   ]
  },
  {
   "cell_type": "code",
   "execution_count": 3,
   "metadata": {},
   "outputs": [
    {
     "data": {
      "text/plain": [
       "0    12\n",
       "1    24\n",
       "2    36\n",
       "dtype: int64"
      ]
     },
     "execution_count": 3,
     "metadata": {},
     "output_type": "execute_result"
    }
   ],
   "source": [
    "list=[12,24,36]\n",
    "s=pd.Series(list) #pandas.Series( data, index, dtype, copy) <-- constructor of series\n",
    "s"
   ]
  },
  {
   "cell_type": "code",
   "execution_count": 3,
   "metadata": {},
   "outputs": [
    {
     "name": "stdout",
     "output_type": "stream",
     "text": [
      "pete    <class 'list'>\n",
      "ram     <class 'list'>\n",
      "ali     <class 'list'>\n",
      "dtype: object\n"
     ]
    }
   ],
   "source": [
    "import pandas as pd\n",
    "s1=pd.Series(list,index=[\"pete\",\"ram\",\"ali\"])\n",
    "print(s1)"
   ]
  },
  {
   "cell_type": "code",
   "execution_count": 5,
   "metadata": {},
   "outputs": [
    {
     "name": "stdout",
     "output_type": "stream",
     "text": [
      "pete    12\n",
      "ram     24\n",
      "ali     36\n",
      "dtype: int64\n"
     ]
    }
   ],
   "source": [
    "dict1={'pete':12,'ram':24,'ali':36} #dict key are used as index \n",
    "s2=pd.Series(dict1)\n",
    "print(s2)"
   ]
  },
  {
   "cell_type": "code",
   "execution_count": 6,
   "metadata": {},
   "outputs": [
    {
     "name": "stdout",
     "output_type": "stream",
     "text": [
      "pete    12\n",
      "ram     24\n",
      "dtype: int64\n"
     ]
    }
   ],
   "source": [
    "#Retrieving data using position\n",
    "print(s2[:2])"
   ]
  },
  {
   "cell_type": "code",
   "execution_count": null,
   "metadata": {},
   "outputs": [],
   "source": [
    "#<--- DATA FRAME --->\n",
    "#pandas.DataFrame( data, index, columns, dtype, copy) <-- constructor of data frame"
   ]
  },
  {
   "cell_type": "code",
   "execution_count": 8,
   "metadata": {},
   "outputs": [
    {
     "name": "stdout",
     "output_type": "stream",
     "text": [
      "   Name  Age\n",
      "1  pete   12\n",
      "2   ram   24\n",
      "3   ali   36\n",
      "4  sham   64\n"
     ]
    }
   ],
   "source": [
    "dic={'Name':['pete','ram','ali','sham'],'Age':[12,24,36,64]}\n",
    "df=pd.DataFrame(dic,index=[1,2,3,4])\n",
    "print(df)"
   ]
  },
  {
   "cell_type": "code",
   "execution_count": 1,
   "metadata": {},
   "outputs": [],
   "source": [
    "import pandas as pd"
   ]
  },
  {
   "cell_type": "code",
   "execution_count": 4,
   "metadata": {},
   "outputs": [
    {
     "name": "stdout",
     "output_type": "stream",
     "text": [
      "     Name  Age\n",
      "0   Peter   12\n",
      "1    John   24\n",
      "2  Mathew   21\n",
      "3    Alex   34\n",
      "4  George   29\n"
     ]
    }
   ],
   "source": [
    "#column add\n",
    "name = pd.Series(['Peter', 'John', 'Mathew', 'Alex', 'George'])\n",
    "age = pd.Series([12,24,21,34,29])\n",
    "dic2 = {'Name' : name,'Age' : age}\n",
    "df3 = pd.DataFrame(dic2)\n",
    "print(df3)\n",
    "\n"
   ]
  },
  {
   "cell_type": "code",
   "execution_count": 7,
   "metadata": {},
   "outputs": [
    {
     "name": "stdout",
     "output_type": "stream",
     "text": [
      "     Name  Age  Score\n",
      "0   Peter   12     34\n",
      "1    John   24      5\n",
      "2  Mathew   21     78\n",
      "3    Alex   34     45\n",
      "4  George   29     87\n"
     ]
    }
   ],
   "source": [
    "df3['Score']=pd.Series([34,5,78,45,87])\n",
    "print(df3)"
   ]
  },
  {
   "cell_type": "code",
   "execution_count": 8,
   "metadata": {},
   "outputs": [
    {
     "data": {
      "text/html": [
       "<div>\n",
       "<style scoped>\n",
       "    .dataframe tbody tr th:only-of-type {\n",
       "        vertical-align: middle;\n",
       "    }\n",
       "\n",
       "    .dataframe tbody tr th {\n",
       "        vertical-align: top;\n",
       "    }\n",
       "\n",
       "    .dataframe thead th {\n",
       "        text-align: right;\n",
       "    }\n",
       "</style>\n",
       "<table border=\"1\" class=\"dataframe\">\n",
       "  <thead>\n",
       "    <tr style=\"text-align: right;\">\n",
       "      <th></th>\n",
       "      <th>Name</th>\n",
       "      <th>Age</th>\n",
       "    </tr>\n",
       "  </thead>\n",
       "  <tbody>\n",
       "    <tr>\n",
       "      <th>0</th>\n",
       "      <td>Peter</td>\n",
       "      <td>12</td>\n",
       "    </tr>\n",
       "    <tr>\n",
       "      <th>1</th>\n",
       "      <td>John</td>\n",
       "      <td>24</td>\n",
       "    </tr>\n",
       "    <tr>\n",
       "      <th>2</th>\n",
       "      <td>Mathew</td>\n",
       "      <td>21</td>\n",
       "    </tr>\n",
       "    <tr>\n",
       "      <th>3</th>\n",
       "      <td>Alex</td>\n",
       "      <td>34</td>\n",
       "    </tr>\n",
       "    <tr>\n",
       "      <th>4</th>\n",
       "      <td>George</td>\n",
       "      <td>29</td>\n",
       "    </tr>\n",
       "  </tbody>\n",
       "</table>\n",
       "</div>"
      ],
      "text/plain": [
       "     Name  Age\n",
       "0   Peter   12\n",
       "1    John   24\n",
       "2  Mathew   21\n",
       "3    Alex   34\n",
       "4  George   29"
      ]
     },
     "execution_count": 8,
     "metadata": {},
     "output_type": "execute_result"
    }
   ],
   "source": [
    "#delete the column\n",
    "del df3['Score']\n",
    "df3\n"
   ]
  },
  {
   "cell_type": "code",
   "execution_count": 25,
   "metadata": {},
   "outputs": [
    {
     "data": {
      "text/html": [
       "<div>\n",
       "<style scoped>\n",
       "    .dataframe tbody tr th:only-of-type {\n",
       "        vertical-align: middle;\n",
       "    }\n",
       "\n",
       "    .dataframe tbody tr th {\n",
       "        vertical-align: top;\n",
       "    }\n",
       "\n",
       "    .dataframe thead th {\n",
       "        text-align: right;\n",
       "    }\n",
       "</style>\n",
       "<table border=\"1\" class=\"dataframe\">\n",
       "  <thead>\n",
       "    <tr style=\"text-align: right;\">\n",
       "      <th></th>\n",
       "      <th>Name</th>\n",
       "      <th>Age</th>\n",
       "    </tr>\n",
       "  </thead>\n",
       "  <tbody>\n",
       "    <tr>\n",
       "      <th>0</th>\n",
       "      <td>Peter</td>\n",
       "      <td>12</td>\n",
       "    </tr>\n",
       "    <tr>\n",
       "      <th>1</th>\n",
       "      <td>John</td>\n",
       "      <td>24</td>\n",
       "    </tr>\n",
       "    <tr>\n",
       "      <th>2</th>\n",
       "      <td>Mathew</td>\n",
       "      <td>21</td>\n",
       "    </tr>\n",
       "    <tr>\n",
       "      <th>3</th>\n",
       "      <td>Alex</td>\n",
       "      <td>34</td>\n",
       "    </tr>\n",
       "    <tr>\n",
       "      <th>4</th>\n",
       "      <td>George</td>\n",
       "      <td>29</td>\n",
       "    </tr>\n",
       "    <tr>\n",
       "      <th>5</th>\n",
       "      <td>ramit</td>\n",
       "      <td>13</td>\n",
       "    </tr>\n",
       "  </tbody>\n",
       "</table>\n",
       "</div>"
      ],
      "text/plain": [
       "     Name  Age\n",
       "0   Peter   12\n",
       "1    John   24\n",
       "2  Mathew   21\n",
       "3    Alex   34\n",
       "4  George   29\n",
       "5   ramit   13"
      ]
     },
     "execution_count": 25,
     "metadata": {},
     "output_type": "execute_result"
    }
   ],
   "source": [
    "update=pd.DataFrame([['ramit',13]],index=[5],columns=['Name','Age'])\n",
    "df4=pd.DataFrame(df3.append(update))\n",
    "df4\n"
   ]
  },
  {
   "cell_type": "code",
   "execution_count": 26,
   "metadata": {},
   "outputs": [
    {
     "data": {
      "text/html": [
       "<div>\n",
       "<style scoped>\n",
       "    .dataframe tbody tr th:only-of-type {\n",
       "        vertical-align: middle;\n",
       "    }\n",
       "\n",
       "    .dataframe tbody tr th {\n",
       "        vertical-align: top;\n",
       "    }\n",
       "\n",
       "    .dataframe thead th {\n",
       "        text-align: right;\n",
       "    }\n",
       "</style>\n",
       "<table border=\"1\" class=\"dataframe\">\n",
       "  <thead>\n",
       "    <tr style=\"text-align: right;\">\n",
       "      <th></th>\n",
       "      <th>Name</th>\n",
       "      <th>Age</th>\n",
       "    </tr>\n",
       "  </thead>\n",
       "  <tbody>\n",
       "    <tr>\n",
       "      <th>0</th>\n",
       "      <td>Peter</td>\n",
       "      <td>12</td>\n",
       "    </tr>\n",
       "    <tr>\n",
       "      <th>1</th>\n",
       "      <td>John</td>\n",
       "      <td>24</td>\n",
       "    </tr>\n",
       "    <tr>\n",
       "      <th>2</th>\n",
       "      <td>Mathew</td>\n",
       "      <td>21</td>\n",
       "    </tr>\n",
       "    <tr>\n",
       "      <th>3</th>\n",
       "      <td>Alex</td>\n",
       "      <td>34</td>\n",
       "    </tr>\n",
       "    <tr>\n",
       "      <th>4</th>\n",
       "      <td>George</td>\n",
       "      <td>29</td>\n",
       "    </tr>\n",
       "  </tbody>\n",
       "</table>\n",
       "</div>"
      ],
      "text/plain": [
       "     Name  Age\n",
       "0   Peter   12\n",
       "1    John   24\n",
       "2  Mathew   21\n",
       "3    Alex   34\n",
       "4  George   29"
      ]
     },
     "execution_count": 26,
     "metadata": {},
     "output_type": "execute_result"
    }
   ],
   "source": [
    "df4.drop(5)"
   ]
  },
  {
   "cell_type": "code",
   "execution_count": 2,
   "metadata": {},
   "outputs": [
    {
     "name": "stdout",
     "output_type": "stream",
     "text": [
      "pete    12\n",
      "ram     24\n",
      "ali     36\n",
      "dtype: int64\n"
     ]
    }
   ],
   "source": [
    "import pandas as pd\n",
    "dict1={'pete':12,'ram':24,'ali':36} #dict key are used as index \n",
    "s2=pd.Series(dict1)\n",
    "print(s2)"
   ]
  },
  {
   "cell_type": "code",
   "execution_count": 12,
   "metadata": {},
   "outputs": [
    {
     "name": "stdout",
     "output_type": "stream",
     "text": [
      "[Index(['pete', 'ram', 'ali'], dtype='object')]\n",
      "3\n",
      "[12 24 36]\n",
      "\n",
      "\n",
      "pete    12\n",
      "ram     24\n",
      "dtype: int64\n"
     ]
    }
   ],
   "source": [
    "print(s2.axes)\n",
    "print(s2.size)\n",
    "print(s2.values)\n",
    "print('\\n')\n",
    "print(s2.head(2)) #similarly tail from end of dataset"
   ]
  },
  {
   "cell_type": "code",
   "execution_count": 20,
   "metadata": {},
   "outputs": [
    {
     "data": {
      "text/html": [
       "<div>\n",
       "<style scoped>\n",
       "    .dataframe tbody tr th:only-of-type {\n",
       "        vertical-align: middle;\n",
       "    }\n",
       "\n",
       "    .dataframe tbody tr th {\n",
       "        vertical-align: top;\n",
       "    }\n",
       "\n",
       "    .dataframe thead th {\n",
       "        text-align: right;\n",
       "    }\n",
       "</style>\n",
       "<table border=\"1\" class=\"dataframe\">\n",
       "  <thead>\n",
       "    <tr style=\"text-align: right;\">\n",
       "      <th></th>\n",
       "      <th>Name</th>\n",
       "      <th>Age</th>\n",
       "    </tr>\n",
       "  </thead>\n",
       "  <tbody>\n",
       "    <tr>\n",
       "      <th>1</th>\n",
       "      <td>pete</td>\n",
       "      <td>12</td>\n",
       "    </tr>\n",
       "    <tr>\n",
       "      <th>2</th>\n",
       "      <td>ram</td>\n",
       "      <td>24</td>\n",
       "    </tr>\n",
       "    <tr>\n",
       "      <th>3</th>\n",
       "      <td>ali</td>\n",
       "      <td>36</td>\n",
       "    </tr>\n",
       "    <tr>\n",
       "      <th>4</th>\n",
       "      <td>sham</td>\n",
       "      <td>64</td>\n",
       "    </tr>\n",
       "    <tr>\n",
       "      <th>5</th>\n",
       "      <td>ramit</td>\n",
       "      <td>13</td>\n",
       "    </tr>\n",
       "  </tbody>\n",
       "</table>\n",
       "</div>"
      ],
      "text/plain": [
       "    Name  Age\n",
       "1   pete   12\n",
       "2    ram   24\n",
       "3    ali   36\n",
       "4   sham   64\n",
       "5  ramit   13"
      ]
     },
     "execution_count": 20,
     "metadata": {},
     "output_type": "execute_result"
    }
   ],
   "source": [
    "dic={'Name':['pete','ram','ali','sham'],'Age':[12,24,36,64]}\n",
    "df3=pd.DataFrame(dic,index=[1,2,3,4])\n",
    "update=pd.DataFrame([['ramit',13]],index=[5],columns=['Name','Age'])\n",
    "df4=pd.DataFrame(df3.append(update))\n",
    "df4\n"
   ]
  },
  {
   "cell_type": "code",
   "execution_count": 23,
   "metadata": {},
   "outputs": [
    {
     "name": "stdout",
     "output_type": "stream",
     "text": [
      "         1    2    3     4      5\n",
      "Name  pete  ram  ali  sham  ramit\n",
      "Age     12   24   36    64     13\n",
      "\n",
      "\n",
      "[Int64Index([1, 2, 3, 4, 5], dtype='int64'), Index(['Name', 'Age'], dtype='object')]\n",
      "\n",
      "\n",
      "2\n"
     ]
    }
   ],
   "source": [
    "print(df4.T) #transpose\n",
    "print('\\n')\n",
    "print(df4.axes)\n",
    "print('\\n')\n",
    "print(df4.ndim)"
   ]
  },
  {
   "cell_type": "code",
   "execution_count": 24,
   "metadata": {},
   "outputs": [
    {
     "data": {
      "text/html": [
       "<div>\n",
       "<style scoped>\n",
       "    .dataframe tbody tr th:only-of-type {\n",
       "        vertical-align: middle;\n",
       "    }\n",
       "\n",
       "    .dataframe tbody tr th {\n",
       "        vertical-align: top;\n",
       "    }\n",
       "\n",
       "    .dataframe thead th {\n",
       "        text-align: right;\n",
       "    }\n",
       "</style>\n",
       "<table border=\"1\" class=\"dataframe\">\n",
       "  <thead>\n",
       "    <tr style=\"text-align: right;\">\n",
       "      <th></th>\n",
       "      <th>Name</th>\n",
       "      <th>Age</th>\n",
       "      <th>Score</th>\n",
       "    </tr>\n",
       "  </thead>\n",
       "  <tbody>\n",
       "    <tr>\n",
       "      <th>0</th>\n",
       "      <td>Peter</td>\n",
       "      <td>12</td>\n",
       "      <td>67</td>\n",
       "    </tr>\n",
       "    <tr>\n",
       "      <th>1</th>\n",
       "      <td>John</td>\n",
       "      <td>23</td>\n",
       "      <td>87</td>\n",
       "    </tr>\n",
       "    <tr>\n",
       "      <th>2</th>\n",
       "      <td>Mathew</td>\n",
       "      <td>16</td>\n",
       "      <td>56</td>\n",
       "    </tr>\n",
       "    <tr>\n",
       "      <th>3</th>\n",
       "      <td>Hasan</td>\n",
       "      <td>21</td>\n",
       "      <td>90</td>\n",
       "    </tr>\n",
       "    <tr>\n",
       "      <th>4</th>\n",
       "      <td>Alex</td>\n",
       "      <td>34</td>\n",
       "      <td>60</td>\n",
       "    </tr>\n",
       "    <tr>\n",
       "      <th>5</th>\n",
       "      <td>Amir</td>\n",
       "      <td>24</td>\n",
       "      <td>85</td>\n",
       "    </tr>\n",
       "  </tbody>\n",
       "</table>\n",
       "</div>"
      ],
      "text/plain": [
       "     Name  Age  Score\n",
       "0   Peter   12     67\n",
       "1    John   23     87\n",
       "2  Mathew   16     56\n",
       "3   Hasan   21     90\n",
       "4    Alex   34     60\n",
       "5    Amir   24     85"
      ]
     },
     "execution_count": 24,
     "metadata": {},
     "output_type": "execute_result"
    }
   ],
   "source": [
    "    name = pd.Series(['Peter','John','Mathew','Hasan','Alex','Amir'])\n",
    "    age = pd.Series([12,23,16,21,34,24])\n",
    "    score = pd.Series([67,87,56,90,60,85])\n",
    "\n",
    "    df2 = pd.DataFrame({'Name':name, 'Age': age, 'Score':score})\n",
    "    df2"
   ]
  },
  {
   "cell_type": "code",
   "execution_count": 28,
   "metadata": {},
   "outputs": [
    {
     "name": "stdout",
     "output_type": "stream",
     "text": [
      "0     79\n",
      "1    110\n",
      "2     72\n",
      "3    111\n",
      "4     94\n",
      "5    109\n",
      "dtype: int64\n",
      "\n",
      "\n",
      "Name     PeterJohnMathewHasanAlexAmir\n",
      "Age                               130\n",
      "Score                             445\n",
      "dtype: object\n"
     ]
    }
   ],
   "source": [
    "print(df2.sum(1)) #axis=1\n",
    "print('\\n')\n",
    "print(df2.sum()) #axis=0"
   ]
  },
  {
   "cell_type": "code",
   "execution_count": 31,
   "metadata": {},
   "outputs": [
    {
     "name": "stdout",
     "output_type": "stream",
     "text": [
      "Age      21.666667\n",
      "Score    74.166667\n",
      "dtype: float64\n",
      "Age       7.554248\n",
      "Score    14.932068\n",
      "dtype: float64\n",
      "\n",
      "\n",
      "             Age      Score\n",
      "count   6.000000   6.000000\n",
      "mean   21.666667  74.166667\n",
      "std     7.554248  14.932068\n",
      "min    12.000000  56.000000\n",
      "25%    17.250000  61.750000\n",
      "50%    22.000000  76.000000\n",
      "75%    23.750000  86.500000\n",
      "max    34.000000  90.000000\n"
     ]
    }
   ],
   "source": [
    "print(df2.mean())\n",
    "print(df2.std())\n",
    "print('\\n')\n",
    "print(df2.describe())"
   ]
  },
  {
   "cell_type": "code",
   "execution_count": 37,
   "metadata": {},
   "outputs": [
    {
     "name": "stdout",
     "output_type": "stream",
     "text": [
      "0    12\n",
      "1    23\n",
      "2    16\n",
      "3    21\n",
      "4    34\n",
      "5    24\n",
      "Name: Age, dtype: int64\n",
      "\n",
      "\n",
      "   Age    Name\n",
      "0   12   Peter\n",
      "1   23    John\n",
      "2   16  Mathew\n",
      "3   21   Hasan\n",
      "4   34    Alex\n",
      "5   24    Amir\n",
      "\n",
      "\n",
      "    Name  Score\n",
      "0  Peter     67\n",
      "3  Hasan     90\n",
      "4   Alex     60\n"
     ]
    }
   ],
   "source": [
    " #Select all rows for a specific column\n",
    "print(df2.loc[:,'Age'])\n",
    "print('\\n')\n",
    "print(df2.loc[:,['Age','Name']]) # Select all rows for multiple columns, say list[]\n",
    "# Select few rows for multiple columns, say list[]\n",
    "print('\\n')\n",
    "print(df2.loc[[0,3,4],['Name','Score']])"
   ]
  },
  {
   "cell_type": "code",
   "execution_count": 41,
   "metadata": {},
   "outputs": [
    {
     "name": "stdout",
     "output_type": "stream",
     "text": [
      "True\n",
      "     Name  Age  Score\n",
      "0   Peter   12     67\n",
      "1    John   23     87\n",
      "2  Mathew   16     56\n",
      "3   Hasan   21     90\n"
     ]
    }
   ],
   "source": [
    "print(df2.loc[3][1]>0)\n",
    "print(df2.iloc[:4]) ## Select all rows for a specific column"
   ]
  }
 ],
 "metadata": {
  "kernelspec": {
   "display_name": "Python 3",
   "language": "python",
   "name": "python3"
  },
  "language_info": {
   "codemirror_mode": {
    "name": "ipython",
    "version": 3
   },
   "file_extension": ".py",
   "mimetype": "text/x-python",
   "name": "python",
   "nbconvert_exporter": "python",
   "pygments_lexer": "ipython3",
   "version": "3.8.5"
  }
 },
 "nbformat": 4,
 "nbformat_minor": 4
}
