{
 "cells": [
  {
   "cell_type": "code",
   "execution_count": 1,
   "metadata": {},
   "outputs": [
    {
     "name": "stdout",
     "output_type": "stream",
     "text": [
      "1.1.1\n"
     ]
    }
   ],
   "source": [
    "import pandas as pd\n",
    "print(pd.__version__)"
   ]
  },
  {
   "cell_type": "code",
   "execution_count": 3,
   "metadata": {},
   "outputs": [
    {
     "data": {
      "text/plain": [
       "0    12\n",
       "1    24\n",
       "2    36\n",
       "dtype: int64"
      ]
     },
     "execution_count": 3,
     "metadata": {},
     "output_type": "execute_result"
    }
   ],
   "source": [
    "list=[12,24,36]\n",
    "s=pd.Series(list) #pandas.Series( data, index, dtype, copy) <-- constructor of series\n",
    "s"
   ]
  },
  {
   "cell_type": "code",
   "execution_count": 3,
   "metadata": {},
   "outputs": [
    {
     "name": "stdout",
     "output_type": "stream",
     "text": [
      "pete    <class 'list'>\n",
      "ram     <class 'list'>\n",
      "ali     <class 'list'>\n",
      "dtype: object\n"
     ]
    }
   ],
   "source": [
    "import pandas as pd\n",
    "s1=pd.Series(list,index=[\"pete\",\"ram\",\"ali\"])\n",
    "print(s1)"
   ]
  },
  {
   "cell_type": "code",
   "execution_count": 5,
   "metadata": {},
   "outputs": [
    {
     "name": "stdout",
     "output_type": "stream",
     "text": [
      "pete    12\n",
      "ram     24\n",
      "ali     36\n",
      "dtype: int64\n"
     ]
    }
   ],
   "source": [
    "dict1={'pete':12,'ram':24,'ali':36} #dict key are used as index \n",
    "s2=pd.Series(dict1)\n",
    "print(s2)"
   ]
  },
  {
   "cell_type": "code",
   "execution_count": 6,
   "metadata": {},
   "outputs": [
    {
     "name": "stdout",
     "output_type": "stream",
     "text": [
      "pete    12\n",
      "ram     24\n",
      "dtype: int64\n"
     ]
    }
   ],
   "source": [
    "#Retrieving data using position\n",
    "print(s2[:2])"
   ]
  },
  {
   "cell_type": "code",
   "execution_count": null,
   "metadata": {},
   "outputs": [],
   "source": [
    "#<--- DATA FRAME --->\n",
    "#pandas.DataFrame( data, index, columns, dtype, copy) <-- constructor of data frame"
   ]
  },
  {
   "cell_type": "code",
   "execution_count": 8,
   "metadata": {},
   "outputs": [
    {
     "name": "stdout",
     "output_type": "stream",
     "text": [
      "   Name  Age\n",
      "1  pete   12\n",
      "2   ram   24\n",
      "3   ali   36\n",
      "4  sham   64\n"
     ]
    }
   ],
   "source": [
    "dic={'Name':['pete','ram','ali','sham'],'Age':[12,24,36,64]}\n",
    "df=pd.DataFrame(dic,index=[1,2,3,4])\n",
    "print(df)"
   ]
  },
  {
   "cell_type": "code",
   "execution_count": 1,
   "metadata": {},
   "outputs": [],
   "source": [
    "import pandas as pd"
   ]
  },
  {
   "cell_type": "code",
   "execution_count": 4,
   "metadata": {},
   "outputs": [
    {
     "name": "stdout",
     "output_type": "stream",
     "text": [
      "     Name  Age\n",
      "0   Peter   12\n",
      "1    John   24\n",
      "2  Mathew   21\n",
      "3    Alex   34\n",
      "4  George   29\n"
     ]
    }
   ],
   "source": [
    "#column add\n",
    "name = pd.Series(['Peter', 'John', 'Mathew', 'Alex', 'George'])\n",
    "age = pd.Series([12,24,21,34,29])\n",
    "dic2 = {'Name' : name,'Age' : age}\n",
    "df3 = pd.DataFrame(dic2)\n",
    "print(df3)\n",
    "\n"
   ]
  },
  {
   "cell_type": "code",
   "execution_count": 7,
   "metadata": {},
   "outputs": [
    {
     "name": "stdout",
     "output_type": "stream",
     "text": [
      "     Name  Age  Score\n",
      "0   Peter   12     34\n",
      "1    John   24      5\n",
      "2  Mathew   21     78\n",
      "3    Alex   34     45\n",
      "4  George   29     87\n"
     ]
    }
   ],
   "source": [
    "df3['Score']=pd.Series([34,5,78,45,87])\n",
    "print(df3)"
   ]
  },
  {
   "cell_type": "code",
   "execution_count": 8,
   "metadata": {},
   "outputs": [
    {
     "data": {
      "text/html": [
       "<div>\n",
       "<style scoped>\n",
       "    .dataframe tbody tr th:only-of-type {\n",
       "        vertical-align: middle;\n",
       "    }\n",
       "\n",
       "    .dataframe tbody tr th {\n",
       "        vertical-align: top;\n",
       "    }\n",
       "\n",
       "    .dataframe thead th {\n",
       "        text-align: right;\n",
       "    }\n",
       "</style>\n",
       "<table border=\"1\" class=\"dataframe\">\n",
       "  <thead>\n",
       "    <tr style=\"text-align: right;\">\n",
       "      <th></th>\n",
       "      <th>Name</th>\n",
       "      <th>Age</th>\n",
       "    </tr>\n",
       "  </thead>\n",
       "  <tbody>\n",
       "    <tr>\n",
       "      <th>0</th>\n",
       "      <td>Peter</td>\n",
       "      <td>12</td>\n",
       "    </tr>\n",
       "    <tr>\n",
       "      <th>1</th>\n",
       "      <td>John</td>\n",
       "      <td>24</td>\n",
       "    </tr>\n",
       "    <tr>\n",
       "      <th>2</th>\n",
       "      <td>Mathew</td>\n",
       "      <td>21</td>\n",
       "    </tr>\n",
       "    <tr>\n",
       "      <th>3</th>\n",
       "      <td>Alex</td>\n",
       "      <td>34</td>\n",
       "    </tr>\n",
       "    <tr>\n",
       "      <th>4</th>\n",
       "      <td>George</td>\n",
       "      <td>29</td>\n",
       "    </tr>\n",
       "  </tbody>\n",
       "</table>\n",
       "</div>"
      ],
      "text/plain": [
       "     Name  Age\n",
       "0   Peter   12\n",
       "1    John   24\n",
       "2  Mathew   21\n",
       "3    Alex   34\n",
       "4  George   29"
      ]
     },
     "execution_count": 8,
     "metadata": {},
     "output_type": "execute_result"
    }
   ],
   "source": [
    "#delete the column\n",
    "del df3['Score']\n",
    "df3\n"
   ]
  },
  {
   "cell_type": "code",
   "execution_count": 25,
   "metadata": {},
   "outputs": [
    {
     "data": {
      "text/html": [
       "<div>\n",
       "<style scoped>\n",
       "    .dataframe tbody tr th:only-of-type {\n",
       "        vertical-align: middle;\n",
       "    }\n",
       "\n",
       "    .dataframe tbody tr th {\n",
       "        vertical-align: top;\n",
       "    }\n",
       "\n",
       "    .dataframe thead th {\n",
       "        text-align: right;\n",
       "    }\n",
       "</style>\n",
       "<table border=\"1\" class=\"dataframe\">\n",
       "  <thead>\n",
       "    <tr style=\"text-align: right;\">\n",
       "      <th></th>\n",
       "      <th>Name</th>\n",
       "      <th>Age</th>\n",
       "    </tr>\n",
       "  </thead>\n",
       "  <tbody>\n",
       "    <tr>\n",
       "      <th>0</th>\n",
       "      <td>Peter</td>\n",
       "      <td>12</td>\n",
       "    </tr>\n",
       "    <tr>\n",
       "      <th>1</th>\n",
       "      <td>John</td>\n",
       "      <td>24</td>\n",
       "    </tr>\n",
       "    <tr>\n",
       "      <th>2</th>\n",
       "      <td>Mathew</td>\n",
       "      <td>21</td>\n",
       "    </tr>\n",
       "    <tr>\n",
       "      <th>3</th>\n",
       "      <td>Alex</td>\n",
       "      <td>34</td>\n",
       "    </tr>\n",
       "    <tr>\n",
       "      <th>4</th>\n",
       "      <td>George</td>\n",
       "      <td>29</td>\n",
       "    </tr>\n",
       "    <tr>\n",
       "      <th>5</th>\n",
       "      <td>ramit</td>\n",
       "      <td>13</td>\n",
       "    </tr>\n",
       "  </tbody>\n",
       "</table>\n",
       "</div>"
      ],
      "text/plain": [
       "     Name  Age\n",
       "0   Peter   12\n",
       "1    John   24\n",
       "2  Mathew   21\n",
       "3    Alex   34\n",
       "4  George   29\n",
       "5   ramit   13"
      ]
     },
     "execution_count": 25,
     "metadata": {},
     "output_type": "execute_result"
    }
   ],
   "source": [
    "update=pd.DataFrame([['ramit',13]],index=[5],columns=['Name','Age'])\n",
    "df4=pd.DataFrame(df3.append(update))\n",
    "df4\n"
   ]
  },
  {
   "cell_type": "code",
   "execution_count": 26,
   "metadata": {},
   "outputs": [
    {
     "data": {
      "text/html": [
       "<div>\n",
       "<style scoped>\n",
       "    .dataframe tbody tr th:only-of-type {\n",
       "        vertical-align: middle;\n",
       "    }\n",
       "\n",
       "    .dataframe tbody tr th {\n",
       "        vertical-align: top;\n",
       "    }\n",
       "\n",
       "    .dataframe thead th {\n",
       "        text-align: right;\n",
       "    }\n",
       "</style>\n",
       "<table border=\"1\" class=\"dataframe\">\n",
       "  <thead>\n",
       "    <tr style=\"text-align: right;\">\n",
       "      <th></th>\n",
       "      <th>Name</th>\n",
       "      <th>Age</th>\n",
       "    </tr>\n",
       "  </thead>\n",
       "  <tbody>\n",
       "    <tr>\n",
       "      <th>0</th>\n",
       "      <td>Peter</td>\n",
       "      <td>12</td>\n",
       "    </tr>\n",
       "    <tr>\n",
       "      <th>1</th>\n",
       "      <td>John</td>\n",
       "      <td>24</td>\n",
       "    </tr>\n",
       "    <tr>\n",
       "      <th>2</th>\n",
       "      <td>Mathew</td>\n",
       "      <td>21</td>\n",
       "    </tr>\n",
       "    <tr>\n",
       "      <th>3</th>\n",
       "      <td>Alex</td>\n",
       "      <td>34</td>\n",
       "    </tr>\n",
       "    <tr>\n",
       "      <th>4</th>\n",
       "      <td>George</td>\n",
       "      <td>29</td>\n",
       "    </tr>\n",
       "  </tbody>\n",
       "</table>\n",
       "</div>"
      ],
      "text/plain": [
       "     Name  Age\n",
       "0   Peter   12\n",
       "1    John   24\n",
       "2  Mathew   21\n",
       "3    Alex   34\n",
       "4  George   29"
      ]
     },
     "execution_count": 26,
     "metadata": {},
     "output_type": "execute_result"
    }
   ],
   "source": [
    "df4.drop(5)"
   ]
  },
  {
   "cell_type": "code",
   "execution_count": 2,
   "metadata": {},
   "outputs": [
    {
     "name": "stdout",
     "output_type": "stream",
     "text": [
      "pete    12\n",
      "ram     24\n",
      "ali     36\n",
      "dtype: int64\n"
     ]
    }
   ],
   "source": [
    "import pandas as pd\n",
    "dict1={'pete':12,'ram':24,'ali':36} #dict key are used as index \n",
    "s2=pd.Series(dict1)\n",
    "print(s2)"
   ]
  },
  {
   "cell_type": "code",
   "execution_count": 12,
   "metadata": {},
   "outputs": [
    {
     "name": "stdout",
     "output_type": "stream",
     "text": [
      "[Index(['pete', 'ram', 'ali'], dtype='object')]\n",
      "3\n",
      "[12 24 36]\n",
      "\n",
      "\n",
      "pete    12\n",
      "ram     24\n",
      "dtype: int64\n"
     ]
    }
   ],
   "source": [
    "print(s2.axes)\n",
    "print(s2.size)\n",
    "print(s2.values)\n",
    "print('\\n')\n",
    "print(s2.head(2)) #similarly tail from end of dataset"
   ]
  },
  {
   "cell_type": "code",
   "execution_count": 20,
   "metadata": {},
   "outputs": [
    {
     "data": {
      "text/html": [
       "<div>\n",
       "<style scoped>\n",
       "    .dataframe tbody tr th:only-of-type {\n",
       "        vertical-align: middle;\n",
       "    }\n",
       "\n",
       "    .dataframe tbody tr th {\n",
       "        vertical-align: top;\n",
       "    }\n",
       "\n",
       "    .dataframe thead th {\n",
       "        text-align: right;\n",
       "    }\n",
       "</style>\n",
       "<table border=\"1\" class=\"dataframe\">\n",
       "  <thead>\n",
       "    <tr style=\"text-align: right;\">\n",
       "      <th></th>\n",
       "      <th>Name</th>\n",
       "      <th>Age</th>\n",
       "    </tr>\n",
       "  </thead>\n",
       "  <tbody>\n",
       "    <tr>\n",
       "      <th>1</th>\n",
       "      <td>pete</td>\n",
       "      <td>12</td>\n",
       "    </tr>\n",
       "    <tr>\n",
       "      <th>2</th>\n",
       "      <td>ram</td>\n",
       "      <td>24</td>\n",
       "    </tr>\n",
       "    <tr>\n",
       "      <th>3</th>\n",
       "      <td>ali</td>\n",
       "      <td>36</td>\n",
       "    </tr>\n",
       "    <tr>\n",
       "      <th>4</th>\n",
       "      <td>sham</td>\n",
       "      <td>64</td>\n",
       "    </tr>\n",
       "    <tr>\n",
       "      <th>5</th>\n",
       "      <td>ramit</td>\n",
       "      <td>13</td>\n",
       "    </tr>\n",
       "  </tbody>\n",
       "</table>\n",
       "</div>"
      ],
      "text/plain": [
       "    Name  Age\n",
       "1   pete   12\n",
       "2    ram   24\n",
       "3    ali   36\n",
       "4   sham   64\n",
       "5  ramit   13"
      ]
     },
     "execution_count": 20,
     "metadata": {},
     "output_type": "execute_result"
    }
   ],
   "source": [
    "dic={'Name':['pete','ram','ali','sham'],'Age':[12,24,36,64]}\n",
    "df3=pd.DataFrame(dic,index=[1,2,3,4])\n",
    "update=pd.DataFrame([['ramit',13]],index=[5],columns=['Name','Age'])\n",
    "df4=pd.DataFrame(df3.append(update))\n",
    "df4\n"
   ]
  },
  {
   "cell_type": "code",
   "execution_count": 23,
   "metadata": {},
   "outputs": [
    {
     "name": "stdout",
     "output_type": "stream",
     "text": [
      "         1    2    3     4      5\n",
      "Name  pete  ram  ali  sham  ramit\n",
      "Age     12   24   36    64     13\n",
      "\n",
      "\n",
      "[Int64Index([1, 2, 3, 4, 5], dtype='int64'), Index(['Name', 'Age'], dtype='object')]\n",
      "\n",
      "\n",
      "2\n"
     ]
    }
   ],
   "source": [
    "print(df4.T) #transpose\n",
    "print('\\n')\n",
    "print(df4.axes)\n",
    "print('\\n')\n",
    "print(df4.ndim)"
   ]
  },
  {
   "cell_type": "code",
   "execution_count": 24,
   "metadata": {},
   "outputs": [
    {
     "data": {
      "text/html": [
       "<div>\n",
       "<style scoped>\n",
       "    .dataframe tbody tr th:only-of-type {\n",
       "        vertical-align: middle;\n",
       "    }\n",
       "\n",
       "    .dataframe tbody tr th {\n",
       "        vertical-align: top;\n",
       "    }\n",
       "\n",
       "    .dataframe thead th {\n",
       "        text-align: right;\n",
       "    }\n",
       "</style>\n",
       "<table border=\"1\" class=\"dataframe\">\n",
       "  <thead>\n",
       "    <tr style=\"text-align: right;\">\n",
       "      <th></th>\n",
       "      <th>Name</th>\n",
       "      <th>Age</th>\n",
       "      <th>Score</th>\n",
       "    </tr>\n",
       "  </thead>\n",
       "  <tbody>\n",
       "    <tr>\n",
       "      <th>0</th>\n",
       "      <td>Peter</td>\n",
       "      <td>12</td>\n",
       "      <td>67</td>\n",
       "    </tr>\n",
       "    <tr>\n",
       "      <th>1</th>\n",
       "      <td>John</td>\n",
       "      <td>23</td>\n",
       "      <td>87</td>\n",
       "    </tr>\n",
       "    <tr>\n",
       "      <th>2</th>\n",
       "      <td>Mathew</td>\n",
       "      <td>16</td>\n",
       "      <td>56</td>\n",
       "    </tr>\n",
       "    <tr>\n",
       "      <th>3</th>\n",
       "      <td>Hasan</td>\n",
       "      <td>21</td>\n",
       "      <td>90</td>\n",
       "    </tr>\n",
       "    <tr>\n",
       "      <th>4</th>\n",
       "      <td>Alex</td>\n",
       "      <td>34</td>\n",
       "      <td>60</td>\n",
       "    </tr>\n",
       "    <tr>\n",
       "      <th>5</th>\n",
       "      <td>Amir</td>\n",
       "      <td>24</td>\n",
       "      <td>85</td>\n",
       "    </tr>\n",
       "  </tbody>\n",
       "</table>\n",
       "</div>"
      ],
      "text/plain": [
       "     Name  Age  Score\n",
       "0   Peter   12     67\n",
       "1    John   23     87\n",
       "2  Mathew   16     56\n",
       "3   Hasan   21     90\n",
       "4    Alex   34     60\n",
       "5    Amir   24     85"
      ]
     },
     "execution_count": 24,
     "metadata": {},
     "output_type": "execute_result"
    }
   ],
   "source": [
    "    name = pd.Series(['Peter','John','Mathew','Hasan','Alex','Amir'])\n",
    "    age = pd.Series([12,23,16,21,34,24])\n",
    "    score = pd.Series([67,87,56,90,60,85])\n",
    "\n",
    "    df2 = pd.DataFrame({'Name':name, 'Age': age, 'Score':score})\n",
    "    df2"
   ]
  },
  {
   "cell_type": "code",
   "execution_count": 28,
   "metadata": {},
   "outputs": [
    {
     "name": "stdout",
     "output_type": "stream",
     "text": [
      "0     79\n",
      "1    110\n",
      "2     72\n",
      "3    111\n",
      "4     94\n",
      "5    109\n",
      "dtype: int64\n",
      "\n",
      "\n",
      "Name     PeterJohnMathewHasanAlexAmir\n",
      "Age                               130\n",
      "Score                             445\n",
      "dtype: object\n"
     ]
    }
   ],
   "source": [
    "print(df2.sum(1)) #axis=1\n",
    "print('\\n')\n",
    "print(df2.sum()) #axis=0"
   ]
  },
  {
   "cell_type": "code",
   "execution_count": 31,
   "metadata": {},
   "outputs": [
    {
     "name": "stdout",
     "output_type": "stream",
     "text": [
      "Age      21.666667\n",
      "Score    74.166667\n",
      "dtype: float64\n",
      "Age       7.554248\n",
      "Score    14.932068\n",
      "dtype: float64\n",
      "\n",
      "\n",
      "             Age      Score\n",
      "count   6.000000   6.000000\n",
      "mean   21.666667  74.166667\n",
      "std     7.554248  14.932068\n",
      "min    12.000000  56.000000\n",
      "25%    17.250000  61.750000\n",
      "50%    22.000000  76.000000\n",
      "75%    23.750000  86.500000\n",
      "max    34.000000  90.000000\n"
     ]
    }
   ],
   "source": [
    "print(df2.mean())\n",
    "print(df2.std())\n",
    "print('\\n')\n",
    "print(df2.describe())"
   ]
  },
  {
   "cell_type": "code",
   "execution_count": 37,
   "metadata": {},
   "outputs": [
    {
     "name": "stdout",
     "output_type": "stream",
     "text": [
      "0    12\n",
      "1    23\n",
      "2    16\n",
      "3    21\n",
      "4    34\n",
      "5    24\n",
      "Name: Age, dtype: int64\n",
      "\n",
      "\n",
      "   Age    Name\n",
      "0   12   Peter\n",
      "1   23    John\n",
      "2   16  Mathew\n",
      "3   21   Hasan\n",
      "4   34    Alex\n",
      "5   24    Amir\n",
      "\n",
      "\n",
      "    Name  Score\n",
      "0  Peter     67\n",
      "3  Hasan     90\n",
      "4   Alex     60\n"
     ]
    }
   ],
   "source": [
    " #Select all rows for a specific column\n",
    "print(df2.loc[:,'Age'])\n",
    "print('\\n')\n",
    "print(df2.loc[:,['Age','Name']]) # Select all rows for multiple columns, say list[]\n",
    "# Select few rows for multiple columns, say list[]\n",
    "print('\\n')\n",
    "print(df2.loc[[0,3,4],['Name','Score']])"
   ]
  },
  {
   "cell_type": "code",
   "execution_count": 41,
   "metadata": {},
   "outputs": [
    {
     "name": "stdout",
     "output_type": "stream",
     "text": [
      "True\n",
      "     Name  Age  Score\n",
      "0   Peter   12     67\n",
      "1    John   23     87\n",
      "2  Mathew   16     56\n",
      "3   Hasan   21     90\n"
     ]
    }
   ],
   "source": [
    "print(df2.loc[3][1]>0)\n",
    "print(df2.iloc[:4]) ## Select all rows for a specific column"
   ]
  },
  {
   "cell_type": "code",
   "execution_count": 2,
   "metadata": {},
   "outputs": [
    {
     "data": {
      "text/html": [
       "<div>\n",
       "<style scoped>\n",
       "    .dataframe tbody tr th:only-of-type {\n",
       "        vertical-align: middle;\n",
       "    }\n",
       "\n",
       "    .dataframe tbody tr th {\n",
       "        vertical-align: top;\n",
       "    }\n",
       "\n",
       "    .dataframe thead th {\n",
       "        text-align: right;\n",
       "    }\n",
       "</style>\n",
       "<table border=\"1\" class=\"dataframe\">\n",
       "  <thead>\n",
       "    <tr style=\"text-align: right;\">\n",
       "      <th></th>\n",
       "      <th>Name</th>\n",
       "      <th>Age</th>\n",
       "    </tr>\n",
       "  </thead>\n",
       "  <tbody>\n",
       "    <tr>\n",
       "      <th>0</th>\n",
       "      <td>Peter</td>\n",
       "      <td>24.0</td>\n",
       "    </tr>\n",
       "    <tr>\n",
       "      <th>1</th>\n",
       "      <td>John</td>\n",
       "      <td>NaN</td>\n",
       "    </tr>\n",
       "    <tr>\n",
       "      <th>2</th>\n",
       "      <td>Mathew</td>\n",
       "      <td>18.0</td>\n",
       "    </tr>\n",
       "    <tr>\n",
       "      <th>3</th>\n",
       "      <td>Brick</td>\n",
       "      <td>NaN</td>\n",
       "    </tr>\n",
       "    <tr>\n",
       "      <th>4</th>\n",
       "      <td>Alex</td>\n",
       "      <td>34.0</td>\n",
       "    </tr>\n",
       "  </tbody>\n",
       "</table>\n",
       "</div>"
      ],
      "text/plain": [
       "     Name   Age\n",
       "0   Peter  24.0\n",
       "1    John   NaN\n",
       "2  Mathew  18.0\n",
       "3   Brick   NaN\n",
       "4    Alex  34.0"
      ]
     },
     "execution_count": 2,
     "metadata": {},
     "output_type": "execute_result"
    }
   ],
   "source": [
    "import numpy as np\n",
    "import pandas as pd\n",
    "name = pd.Series(['Peter', 'John', 'Mathew', 'Brick', 'Alex'])\n",
    "age = pd.Series([24, np.nan, 18, np.nan, 34]) \n",
    "df=pd.DataFrame({'Name':name,'Age':age})\n",
    "df"
   ]
  },
  {
   "cell_type": "code",
   "execution_count": 7,
   "metadata": {},
   "outputs": [
    {
     "name": "stdout",
     "output_type": "stream",
     "text": [
      "Finding the missing values\n",
      "\n",
      "     Name    Age\n",
      "0  False  False\n",
      "1  False   True\n",
      "2  False  False\n",
      "3  False   True\n",
      "4  False  False\n",
      "To find in particular column specifically\n",
      "Returns true if particular value is null\n",
      " 0    False\n",
      "1     True\n",
      "2    False\n",
      "3     True\n",
      "4    False\n",
      "Name: Age, dtype: bool\n",
      "Returns true if particular value is not null\n",
      " 0     True\n",
      "1    False\n",
      "2     True\n",
      "3    False\n",
      "4     True\n",
      "Name: Age, dtype: bool\n"
     ]
    }
   ],
   "source": [
    "#Finding the missing values\n",
    "\n",
    "print(\"Finding the missing values\\n\\n\",df.isnull())\n",
    "\n",
    "# To find in particular column specifically\n",
    "print(\"To find in particular column specifically\\nReturns true if particular value is null\\n\",df['Age'].isnull())\n",
    "# Returns true if particular value is null\n",
    "\n",
    "print(\"Returns true if particular value is not null\\n\",df['Age'].notnull())\n",
    "# Returns true if particular value is not null"
   ]
  },
  {
   "cell_type": "code",
   "execution_count": 9,
   "metadata": {},
   "outputs": [
    {
     "name": "stdout",
     "output_type": "stream",
     "text": [
      "2\n",
      "3\n"
     ]
    }
   ],
   "source": [
    "print(df['Age'].isnull().sum())\n",
    "print(df['Age'].notnull().sum())"
   ]
  },
  {
   "cell_type": "code",
   "execution_count": 15,
   "metadata": {},
   "outputs": [
    {
     "name": "stdout",
     "output_type": "stream",
     "text": [
      "     Name   Age\n",
      "0   Peter  24.0\n",
      "1    John  25.0\n",
      "2  Mathew  18.0\n",
      "3   Brick  25.0\n",
      "4    Alex  34.0\n",
      "\n",
      "\n",
      "     Name   Age\n",
      "0   Peter  10.0\n",
      "1    John   NaN\n",
      "2  Mathew  18.0\n",
      "3   Brick   NaN\n",
      "4    Alex  34.0\n"
     ]
    }
   ],
   "source": [
    "avg=df['Age'].mean()\n",
    "avg=round(avg,0)\n",
    "print(df.fillna(avg))\n",
    "print('\\n')\n",
    "print(df.replace({24:10}))"
   ]
  },
  {
   "cell_type": "code",
   "execution_count": 33,
   "metadata": {},
   "outputs": [
    {
     "data": {
      "text/html": [
       "<div>\n",
       "<style scoped>\n",
       "    .dataframe tbody tr th:only-of-type {\n",
       "        vertical-align: middle;\n",
       "    }\n",
       "\n",
       "    .dataframe tbody tr th {\n",
       "        vertical-align: top;\n",
       "    }\n",
       "\n",
       "    .dataframe thead th {\n",
       "        text-align: right;\n",
       "    }\n",
       "</style>\n",
       "<table border=\"1\" class=\"dataframe\">\n",
       "  <thead>\n",
       "    <tr style=\"text-align: right;\">\n",
       "      <th></th>\n",
       "      <th>Name</th>\n",
       "      <th>Age</th>\n",
       "      <th>Category</th>\n",
       "      <th>Total_Score</th>\n",
       "    </tr>\n",
       "  </thead>\n",
       "  <tbody>\n",
       "    <tr>\n",
       "      <th>0</th>\n",
       "      <td>Peter</td>\n",
       "      <td>12</td>\n",
       "      <td>Young</td>\n",
       "      <td>86</td>\n",
       "    </tr>\n",
       "    <tr>\n",
       "      <th>1</th>\n",
       "      <td>John</td>\n",
       "      <td>22</td>\n",
       "      <td>Young</td>\n",
       "      <td>79</td>\n",
       "    </tr>\n",
       "    <tr>\n",
       "      <th>2</th>\n",
       "      <td>Kerome</td>\n",
       "      <td>62</td>\n",
       "      <td>Adult</td>\n",
       "      <td>63</td>\n",
       "    </tr>\n",
       "    <tr>\n",
       "      <th>3</th>\n",
       "      <td>Mathew</td>\n",
       "      <td>23</td>\n",
       "      <td>Mid</td>\n",
       "      <td>83</td>\n",
       "    </tr>\n",
       "    <tr>\n",
       "      <th>4</th>\n",
       "      <td>Paul</td>\n",
       "      <td>33</td>\n",
       "      <td>Mid</td>\n",
       "      <td>41</td>\n",
       "    </tr>\n",
       "    <tr>\n",
       "      <th>5</th>\n",
       "      <td>Niel</td>\n",
       "      <td>46</td>\n",
       "      <td>Adult</td>\n",
       "      <td>82</td>\n",
       "    </tr>\n",
       "    <tr>\n",
       "      <th>6</th>\n",
       "      <td>Orton</td>\n",
       "      <td>19</td>\n",
       "      <td>Young</td>\n",
       "      <td>56</td>\n",
       "    </tr>\n",
       "    <tr>\n",
       "      <th>7</th>\n",
       "      <td>Whisk</td>\n",
       "      <td>51</td>\n",
       "      <td>Adult</td>\n",
       "      <td>78</td>\n",
       "    </tr>\n",
       "    <tr>\n",
       "      <th>8</th>\n",
       "      <td>Alex</td>\n",
       "      <td>29</td>\n",
       "      <td>Young</td>\n",
       "      <td>64</td>\n",
       "    </tr>\n",
       "    <tr>\n",
       "      <th>9</th>\n",
       "      <td>Hasan</td>\n",
       "      <td>45</td>\n",
       "      <td>Adult</td>\n",
       "      <td>71</td>\n",
       "    </tr>\n",
       "  </tbody>\n",
       "</table>\n",
       "</div>"
      ],
      "text/plain": [
       "     Name  Age Category  Total_Score\n",
       "0   Peter   12    Young           86\n",
       "1    John   22    Young           79\n",
       "2  Kerome   62    Adult           63\n",
       "3  Mathew   23      Mid           83\n",
       "4    Paul   33      Mid           41\n",
       "5    Niel   46    Adult           82\n",
       "6   Orton   19    Young           56\n",
       "7   Whisk   51    Adult           78\n",
       "8    Alex   29    Young           64\n",
       "9   Hasan   45    Adult           71"
      ]
     },
     "execution_count": 33,
     "metadata": {},
     "output_type": "execute_result"
    }
   ],
   "source": [
    "data = {'Name': ['Peter', 'John', 'Kerome', 'Mathew', 'Paul',\n",
    "'Niel', 'Orton', 'Whisk', 'Alex', 'Hasan'],\n",
    "'Age': [12, 22, 62, 23, 33, 46, 19, 51, 29, 45],\n",
    "'Category': ['Young','Young','Adult','Mid','Mid','Adult','Young','Adult','Young','Adult'],\n",
    "'Total_Score':[86,79,63,83,41,82,56,78,64,71]}\n",
    "df = pd.DataFrame(data)\n",
    "df"
   ]
  },
  {
   "cell_type": "code",
   "execution_count": 18,
   "metadata": {},
   "outputs": [
    {
     "name": "stdout",
     "output_type": "stream",
     "text": [
      "{'Adult': Int64Index([2, 5, 7, 9], dtype='int64'), 'Mid': Int64Index([3, 4], dtype='int64'), 'Young': Int64Index([0, 1, 6, 8], dtype='int64')}\n",
      "\n",
      "\n",
      "{('Adult', 63): Int64Index([2], dtype='int64'), ('Adult', 71): Int64Index([9], dtype='int64'), ('Adult', 78): Int64Index([7], dtype='int64'), ('Adult', 82): Int64Index([5], dtype='int64'), ('Mid', 41): Int64Index([4], dtype='int64'), ('Mid', 83): Int64Index([3], dtype='int64'), ('Young', 56): Int64Index([6], dtype='int64'), ('Young', 64): Int64Index([8], dtype='int64'), ('Young', 79): Int64Index([1], dtype='int64'), ('Young', 86): Int64Index([0], dtype='int64')}\n",
      "None\n"
     ]
    }
   ],
   "source": [
    "print(df.groupby('Category').groups)\n",
    "print('\\n')\n",
    "print(print(df.groupby(['Category','Total_Score']).groups))"
   ]
  },
  {
   "cell_type": "code",
   "execution_count": 25,
   "metadata": {},
   "outputs": [
    {
     "name": "stdout",
     "output_type": "stream",
     "text": [
      "Adult\n",
      "     Name  Age Category  Total_Score\n",
      "2  Kerome   62    Adult           63\n",
      "5    Niel   46    Adult           82\n",
      "7   Whisk   51    Adult           78\n",
      "9   Hasan   45    Adult           71\n",
      "Mid\n",
      "     Name  Age Category  Total_Score\n",
      "3  Mathew   23      Mid           83\n",
      "4    Paul   33      Mid           41\n",
      "Young\n",
      "    Name  Age Category  Total_Score\n",
      "0  Peter   12    Young           86\n",
      "1   John   22    Young           79\n",
      "6  Orton   19    Young           56\n",
      "8   Alex   29    Young           64\n",
      "\n",
      "\n",
      "    Name  Age Category  Total_Score\n",
      "0  Peter   12    Young           86\n",
      "1   John   22    Young           79\n",
      "6  Orton   19    Young           56\n",
      "8   Alex   29    Young           64\n"
     ]
    }
   ],
   "source": [
    "group = df.groupby('Category')\n",
    "for name,grp in group:\n",
    "    print(name)\n",
    "    print(grp)\n",
    "print('\\n')\n",
    "print(group.get_group('Young'))\n",
    "    "
   ]
  },
  {
   "cell_type": "code",
   "execution_count": 26,
   "metadata": {},
   "outputs": [
    {
     "name": "stdout",
     "output_type": "stream",
     "text": [
      "          Name  Age  Total_Score\n",
      "Category                        \n",
      "Adult        4    4            4\n",
      "Mid          2    2            2\n",
      "Young        4    4            4\n"
     ]
    }
   ],
   "source": [
    "print(group.count())"
   ]
  },
  {
   "cell_type": "code",
   "execution_count": 27,
   "metadata": {},
   "outputs": [
    {
     "name": "stdout",
     "output_type": "stream",
     "text": [
      "Category\n",
      "Adult    73.50\n",
      "Mid      62.00\n",
      "Young    71.25\n",
      "Name: Total_Score, dtype: float64\n",
      "Category\n",
      "Adult    74.5\n",
      "Mid      62.0\n",
      "Young    71.5\n",
      "Name: Total_Score, dtype: float64\n",
      "Category\n",
      "Adult    82\n",
      "Mid      83\n",
      "Young    86\n",
      "Name: Total_Score, dtype: int64\n",
      "Category\n",
      "Adult    63\n",
      "Mid      41\n",
      "Young    56\n",
      "Name: Total_Score, dtype: int64\n"
     ]
    }
   ],
   "source": [
    "print(group['Total_Score'].mean())\n",
    "print(group['Total_Score'].median())\n",
    "print(group['Total_Score'].max())\n",
    "print(group['Total_Score'].min())"
   ]
  },
  {
   "cell_type": "code",
   "execution_count": 28,
   "metadata": {},
   "outputs": [
    {
     "name": "stdout",
     "output_type": "stream",
     "text": [
      "          sum      prod        std         var\n",
      "Category                                      \n",
      "Adult     294  28609308   8.346656   69.666667\n",
      "Mid       124      3403  29.698485  882.000000\n",
      "Young     285  24349696  13.696107  187.583333\n"
     ]
    }
   ],
   "source": [
    "print(group['Total_Score'].agg([np.sum,np.prod,np.std,np.var]))"
   ]
  },
  {
   "cell_type": "code",
   "execution_count": 29,
   "metadata": {},
   "outputs": [
    {
     "data": {
      "text/html": [
       "<div>\n",
       "<style scoped>\n",
       "    .dataframe tbody tr th:only-of-type {\n",
       "        vertical-align: middle;\n",
       "    }\n",
       "\n",
       "    .dataframe tbody tr th {\n",
       "        vertical-align: top;\n",
       "    }\n",
       "\n",
       "    .dataframe thead th {\n",
       "        text-align: right;\n",
       "    }\n",
       "</style>\n",
       "<table border=\"1\" class=\"dataframe\">\n",
       "  <thead>\n",
       "    <tr style=\"text-align: right;\">\n",
       "      <th></th>\n",
       "      <th>Sample1</th>\n",
       "      <th>Sample2</th>\n",
       "      <th>Sample3</th>\n",
       "      <th>Sample4</th>\n",
       "    </tr>\n",
       "  </thead>\n",
       "  <tbody>\n",
       "    <tr>\n",
       "      <th>0</th>\n",
       "      <td>1.002323</td>\n",
       "      <td>1.443224</td>\n",
       "      <td>0.019550</td>\n",
       "      <td>1.475029</td>\n",
       "    </tr>\n",
       "    <tr>\n",
       "      <th>1</th>\n",
       "      <td>-1.863127</td>\n",
       "      <td>-2.314652</td>\n",
       "      <td>2.173896</td>\n",
       "      <td>-0.710527</td>\n",
       "    </tr>\n",
       "    <tr>\n",
       "      <th>2</th>\n",
       "      <td>-0.843113</td>\n",
       "      <td>1.620922</td>\n",
       "      <td>1.053591</td>\n",
       "      <td>-0.445098</td>\n",
       "    </tr>\n",
       "    <tr>\n",
       "      <th>3</th>\n",
       "      <td>1.540120</td>\n",
       "      <td>0.457173</td>\n",
       "      <td>1.291520</td>\n",
       "      <td>0.755867</td>\n",
       "    </tr>\n",
       "    <tr>\n",
       "      <th>4</th>\n",
       "      <td>0.076352</td>\n",
       "      <td>-0.445244</td>\n",
       "      <td>1.583053</td>\n",
       "      <td>0.628218</td>\n",
       "    </tr>\n",
       "  </tbody>\n",
       "</table>\n",
       "</div>"
      ],
      "text/plain": [
       "    Sample1   Sample2   Sample3   Sample4\n",
       "0  1.002323  1.443224  0.019550  1.475029\n",
       "1 -1.863127 -2.314652  2.173896 -0.710527\n",
       "2 -0.843113  1.620922  1.053591 -0.445098\n",
       "3  1.540120  0.457173  1.291520  0.755867\n",
       "4  0.076352 -0.445244  1.583053  0.628218"
      ]
     },
     "execution_count": 29,
     "metadata": {},
     "output_type": "execute_result"
    }
   ],
   "source": [
    "#<--- visualisation -->\n",
    "df1 = pd.DataFrame(np.random.randn(5,4) ,columns = list(['Sample1','Sample2','Sample3','Sample4']))\n",
    "df1"
   ]
  },
  {
   "cell_type": "code",
   "execution_count": 35,
   "metadata": {},
   "outputs": [
    {
     "data": {
      "text/plain": [
       "<matplotlib.axes._subplots.AxesSubplot at 0x7f88cacf8850>"
      ]
     },
     "execution_count": 35,
     "metadata": {},
     "output_type": "execute_result"
    },
    {
     "data": {
      "image/png": "[encoded data removed]",
      "text/plain": [
       "<Figure size 432x288 with 1 Axes>"
      ]
     },
     "metadata": {
      "needs_background": "light"
     },
     "output_type": "display_data"
    }
   ],
   "source": [
    "df1.plot()"
   ]
  },
  {
   "cell_type": "code",
   "execution_count": 37,
   "metadata": {},
   "outputs": [
    {
     "data": {
      "text/plain": [
       "<matplotlib.axes._subplots.AxesSubplot at 0x7f88c7d0c0d0>"
      ]
     },
     "execution_count": 37,
     "metadata": {},
     "output_type": "execute_result"
    },
    {
     "data": {
      "image/png": "[encoded data removed]",
      "text/plain": [
       "<Figure size 432x288 with 1 Axes>"
      ]
     },
     "metadata": {
      "needs_background": "light"
     },
     "output_type": "display_data"
    }
   ],
   "source": [
    "df1.plot.bar() # Generates bar graph"
   ]
  },
  {
   "cell_type": "code",
   "execution_count": 38,
   "metadata": {},
   "outputs": [
    {
     "data": {
      "text/plain": [
       "<matplotlib.axes._subplots.AxesSubplot at 0x7f88c7cadaf0>"
      ]
     },
     "execution_count": 38,
     "metadata": {},
     "output_type": "execute_result"
    },
    {
     "data": {
      "image/png": "[encoded data removed]",
      "text/plain": [
       "<Figure size 432x288 with 1 Axes>"
      ]
     },
     "metadata": {
      "needs_background": "light"
     },
     "output_type": "display_data"
    }
   ],
   "source": [
    "df1.plot.scatter(x='Sample1', y='Sample2')"
   ]
  }
 ],
 "metadata": {
  "kernelspec": {
   "display_name": "Python 3",
   "language": "python",
   "name": "python3"
  },
  "language_info": {
   "codemirror_mode": {
    "name": "ipython",
    "version": 3
   },
   "file_extension": ".py",
   "mimetype": "text/x-python",
   "name": "python",
   "nbconvert_exporter": "python",
   "pygments_lexer": "ipython3",
   "version": "3.8.5"
  }
 },
 "nbformat": 4,
 "nbformat_minor": 4
}
