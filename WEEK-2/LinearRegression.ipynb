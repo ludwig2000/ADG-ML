{
 "cells": [
  {
   "cell_type": "code",
   "execution_count": 63,
   "metadata": {},
   "outputs": [
    {
     "name": "stdout",
     "output_type": "stream",
     "text": [
      "[[19]\n",
      " [18]\n",
      " [28]\n",
      " [33]\n",
      " [32]\n",
      " [31]\n",
      " [46]\n",
      " [37]\n",
      " [37]\n",
      " [60]\n",
      " [25]\n",
      " [62]\n",
      " [23]\n",
      " [56]\n",
      " [27]\n",
      " [19]\n",
      " [52]\n",
      " [23]\n",
      " [56]\n",
      " [30]\n",
      " [60]\n",
      " [30]\n",
      " [18]\n",
      " [34]\n",
      " [37]\n",
      " [59]\n",
      " [63]\n",
      " [55]\n",
      " [23]\n",
      " [31]\n",
      " [22]\n",
      " [18]\n",
      " [19]\n",
      " [63]\n",
      " [28]\n",
      " [19]\n",
      " [62]\n",
      " [26]\n",
      " [35]\n",
      " [60]\n",
      " [24]\n",
      " [31]\n",
      " [41]\n",
      " [37]\n",
      " [38]\n",
      " [55]\n",
      " [18]\n",
      " [28]\n",
      " [60]\n",
      " [36]\n",
      " [18]\n",
      " [21]\n",
      " [48]\n",
      " [36]\n",
      " [40]\n",
      " [58]\n",
      " [58]\n",
      " [18]\n",
      " [53]\n",
      " [34]\n",
      " [43]\n",
      " [25]\n",
      " [64]\n",
      " [28]\n",
      " [20]\n",
      " [19]\n",
      " [61]\n",
      " [40]\n",
      " [40]\n",
      " [28]\n",
      " [27]\n",
      " [31]\n",
      " [53]\n",
      " [58]\n",
      " [44]\n",
      " [57]\n",
      " [29]\n",
      " [21]\n",
      " [22]\n",
      " [41]\n",
      " [31]\n",
      " [45]\n",
      " [22]\n",
      " [48]\n",
      " [37]\n",
      " [45]\n",
      " [57]\n",
      " [56]\n",
      " [46]\n",
      " [55]\n",
      " [21]\n",
      " [53]\n",
      " [59]\n",
      " [35]\n",
      " [64]\n",
      " [28]\n",
      " [54]\n",
      " [55]\n",
      " [56]\n",
      " [38]]\n",
      "[[27.9  ]\n",
      " [33.77 ]\n",
      " [33.   ]\n",
      " [22.705]\n",
      " [28.88 ]\n",
      " [25.74 ]\n",
      " [33.44 ]\n",
      " [27.74 ]\n",
      " [29.83 ]\n",
      " [25.84 ]\n",
      " [26.22 ]\n",
      " [26.29 ]\n",
      " [34.4  ]\n",
      " [39.82 ]\n",
      " [42.13 ]\n",
      " [24.6  ]\n",
      " [30.78 ]\n",
      " [23.845]\n",
      " [40.3  ]\n",
      " [35.3  ]\n",
      " [36.005]\n",
      " [32.4  ]\n",
      " [34.1  ]\n",
      " [31.92 ]\n",
      " [28.025]\n",
      " [27.72 ]\n",
      " [23.085]\n",
      " [32.775]\n",
      " [17.385]\n",
      " [36.3  ]\n",
      " [35.6  ]\n",
      " [26.315]\n",
      " [28.6  ]\n",
      " [28.31 ]\n",
      " [36.4  ]\n",
      " [20.425]\n",
      " [32.965]\n",
      " [20.8  ]\n",
      " [36.67 ]\n",
      " [39.9  ]\n",
      " [26.6  ]\n",
      " [36.63 ]\n",
      " [21.78 ]\n",
      " [30.8  ]\n",
      " [37.05 ]\n",
      " [37.3  ]\n",
      " [38.665]\n",
      " [34.77 ]\n",
      " [24.53 ]\n",
      " [35.2  ]\n",
      " [35.625]\n",
      " [33.63 ]\n",
      " [28.   ]\n",
      " [34.43 ]\n",
      " [28.69 ]\n",
      " [36.955]\n",
      " [31.825]\n",
      " [31.68 ]\n",
      " [22.88 ]\n",
      " [37.335]\n",
      " [27.36 ]\n",
      " [33.66 ]\n",
      " [24.7  ]\n",
      " [25.935]\n",
      " [22.42 ]\n",
      " [28.9  ]\n",
      " [39.1  ]\n",
      " [26.315]\n",
      " [36.19 ]\n",
      " [23.98 ]\n",
      " [24.75 ]\n",
      " [28.5  ]\n",
      " [28.1  ]\n",
      " [32.01 ]\n",
      " [27.4  ]\n",
      " [34.01 ]\n",
      " [29.59 ]\n",
      " [35.53 ]\n",
      " [39.805]\n",
      " [32.965]\n",
      " [26.885]\n",
      " [38.285]\n",
      " [37.62 ]\n",
      " [41.23 ]\n",
      " [34.8  ]\n",
      " [22.895]\n",
      " [31.16 ]\n",
      " [27.2  ]\n",
      " [27.74 ]\n",
      " [26.98 ]\n",
      " [39.49 ]\n",
      " [24.795]\n",
      " [29.83 ]\n",
      " [34.77 ]\n",
      " [31.3  ]\n",
      " [37.62 ]\n",
      " [30.8  ]\n",
      " [38.28 ]\n",
      " [19.95 ]\n",
      " [19.3  ]]\n"
     ]
    }
   ],
   "source": [
    "import pandas as pd\n",
    "import numpy as np\n",
    "from sklearn import linear_model\n",
    "import matplotlib.pyplot as plt\n",
    "\n",
    "df=pd.read_csv('insurance.csv')\n",
    "df1=df.head(100)\n",
    "X_1=np.array([df1.age])\n",
    "Y_1=np.array([df1.bmi])\n",
    "X=X_1.T\n",
    "Y=Y_1.T\n"
   ]
  },
  {
   "cell_type": "code",
   "execution_count": 73,
   "metadata": {},
   "outputs": [
    {
     "name": "stdout",
     "output_type": "stream",
     "text": [
      "[[ 3.09557455e+01]\n",
      " [-2.78567088e-03]]\n"
     ]
    }
   ],
   "source": [
    "X_b=np.c_[np.ones((100,1)),X]# add x0 = 1 to each instance\n",
    "theta_best=np.linalg.inv(X_b.T.dot(X_b)).dot(X_b.T).dot(Y)\n",
    "print(theta_best)"
   ]
  },
  {
   "cell_type": "code",
   "execution_count": 96,
   "metadata": {},
   "outputs": [
    {
     "name": "stdout",
     "output_type": "stream",
     "text": [
      "[[30.81924758]]\n"
     ]
    }
   ],
   "source": [
    "X_new=np.array([[49]])\n",
    "X_new_b=np.c_[np.ones((1,1)),X_new]\n",
    "y_predict=X_new_b.dot(theta_best)\n",
    "print(y_predict)"
   ]
  },
  {
   "cell_type": "code",
   "execution_count": 94,
   "metadata": {},
   "outputs": [
    {
     "data": {
      "text/plain": [
       "<matplotlib.axes._subplots.AxesSubplot at 0x7fa73567c490>"
      ]
     },
     "execution_count": 94,
     "metadata": {},
     "output_type": "execute_result"
    },
    {
     "data": {
      "image/png": "[encoded data removed]",
      "text/plain": [
       "<Figure size 432x288 with 1 Axes>"
      ]
     },
     "metadata": {
      "needs_background": "light"
     },
     "output_type": "display_data"
    }
   ],
   "source": [
    "plt.xlabel('age')\n",
    "plt.ylabel('bmi')\n",
    "sns.regplot(X,Y,color='red',marker='+')"
   ]
  },
  {
   "cell_type": "code",
   "execution_count": 193,
   "metadata": {},
   "outputs": [
    {
     "data": {
      "text/plain": [
       "array([[ 3.09557455e+01],\n",
       "       [-2.78567088e-03]])"
      ]
     },
     "execution_count": 193,
     "metadata": {},
     "output_type": "execute_result"
    }
   ],
   "source": [
    "eta=0.00055\n",
    "n_iteration=200000\n",
    "m=100\n",
    "theta = np.random.randn(2,1)\n",
    "for iteration in range(n_iteration):\n",
    "    gradients=2/m*X_b.T.dot(X_b.dot(theta)-Y)\n",
    "    theta=theta-eta*gradients\n",
    "\n",
    "theta"
   ]
  }
 ],
 "metadata": {
  "kernelspec": {
   "display_name": "Python 3.8.5 64-bit",
   "language": "python",
   "name": "python38564bitc70dd25471a9441797d167e442caaf02"
  },
  "language_info": {
   "codemirror_mode": {
    "name": "ipython",
    "version": 3
   },
   "file_extension": ".py",
   "mimetype": "text/x-python",
   "name": "python",
   "nbconvert_exporter": "python",
   "pygments_lexer": "ipython3",
   "version": "3.8.5"
  }
 },
 "nbformat": 4,
 "nbformat_minor": 4
}
